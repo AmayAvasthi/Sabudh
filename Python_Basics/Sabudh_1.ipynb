{
 "cells": [
  {
   "cell_type": "code",
   "execution_count": 1,
   "id": "b2ab947c-0504-47d1-8f99-ba0b050cc53d",
   "metadata": {},
   "outputs": [
    {
     "name": "stdout",
     "output_type": "stream",
     "text": [
      "hello world\n"
     ]
    }
   ],
   "source": [
    "print(\"hello world\")"
   ]
  },
  {
   "cell_type": "code",
   "execution_count": 2,
   "id": "6e77cf97-1452-45eb-97d0-bfdf3df625c9",
   "metadata": {
    "scrolled": true
   },
   "outputs": [
    {
     "name": "stdout",
     "output_type": "stream",
     "text": [
      "Help on built-in function print in module builtins:\n",
      "\n",
      "print(...)\n",
      "    print(value, ..., sep=' ', end='\\n', file=sys.stdout, flush=False)\n",
      "    \n",
      "    Prints the values to a stream, or to sys.stdout by default.\n",
      "    Optional keyword arguments:\n",
      "    file:  a file-like object (stream); defaults to the current sys.stdout.\n",
      "    sep:   string inserted between values, default a space.\n",
      "    end:   string appended after the last value, default a newline.\n",
      "    flush: whether to forcibly flush the stream.\n",
      "\n"
     ]
    }
   ],
   "source": [
    "help(print)"
   ]
  },
  {
   "cell_type": "code",
   "execution_count": 3,
   "id": "2d75886f-f82e-4f34-a2e4-2c6d95666550",
   "metadata": {},
   "outputs": [
    {
     "name": "stdout",
     "output_type": "stream",
     "text": [
      "jan,feb,march,"
     ]
    }
   ],
   "source": [
    "print('jan' , 'feb' , 'march' , sep = ',' , end = ',')"
   ]
  },
  {
   "cell_type": "code",
   "execution_count": 4,
   "id": "24df8d71-af8c-4386-97e4-8e4cda3ddf0c",
   "metadata": {},
   "outputs": [
    {
     "name": "stdout",
     "output_type": "stream",
     "text": [
      "april,may,june,"
     ]
    }
   ],
   "source": [
    "print('april' , 'may' , 'june' , sep = ',' , end = ',')"
   ]
  },
  {
   "cell_type": "code",
   "execution_count": 5,
   "id": "8a4b061e-77a8-4b94-84e2-6d2785382c47",
   "metadata": {},
   "outputs": [
    {
     "name": "stdout",
     "output_type": "stream",
     "text": [
      "1\n"
     ]
    }
   ],
   "source": [
    "a =1\n",
    "b=2\n",
    "c=3\n",
    "print(a) \n"
   ]
  },
  {
   "cell_type": "code",
   "execution_count": 6,
   "id": "26a791bb-d6fc-4915-97d8-2f90c84f28c2",
   "metadata": {},
   "outputs": [
    {
     "name": "stdout",
     "output_type": "stream",
     "text": [
      "Variable   Type    Data/Info\n",
      "----------------------------\n",
      "a          int     1\n",
      "b          int     2\n",
      "c          int     3\n"
     ]
    }
   ],
   "source": [
    "%whos\n"
   ]
  },
  {
   "cell_type": "code",
   "execution_count": 6,
   "id": "e7e66fc6-6486-4c5b-86d3-e3a89fc7c574",
   "metadata": {},
   "outputs": [
    {
     "name": "stdout",
     "output_type": "stream",
     "text": [
      "hello jim how are you ludian dkshfakljshfkla\n"
     ]
    }
   ],
   "source": [
    "name  = 'jim'\n",
    "place = 'ludian'\n",
    "print('hello %s how are you %s dkshfakljshfkla' % (name,place))"
   ]
  },
  {
   "cell_type": "code",
   "execution_count": 3,
   "id": "049b3687-9798-4903-8555-5ad07de0958a",
   "metadata": {
    "scrolled": true
   },
   "outputs": [
    {
     "ename": "NameError",
     "evalue": "name 'a' is not defined",
     "output_type": "error",
     "traceback": [
      "\u001b[0;31m---------------------------------------------------------------------------\u001b[0m",
      "\u001b[0;31mNameError\u001b[0m                                 Traceback (most recent call last)",
      "Cell \u001b[0;32mIn[3], line 1\u001b[0m\n\u001b[0;32m----> 1\u001b[0m \u001b[38;5;28;01mdel\u001b[39;00m a\n",
      "\u001b[0;31mNameError\u001b[0m: name 'a' is not defined"
     ]
    }
   ],
   "source": [
    "del a"
   ]
  },
  {
   "cell_type": "code",
   "execution_count": 8,
   "id": "84960eaf-d7ca-4152-bbf1-6fc3182163d6",
   "metadata": {
    "scrolled": true
   },
   "outputs": [
    {
     "name": "stdout",
     "output_type": "stream",
     "text": [
      "Variable   Type    Data/Info\n",
      "----------------------------\n",
      "b          int     2\n",
      "c          int     3\n"
     ]
    }
   ],
   "source": [
    "%whos\n"
   ]
  },
  {
   "cell_type": "code",
   "execution_count": 7,
   "id": "b1b35a95-741a-4516-aa41-5c9be70ba05e",
   "metadata": {},
   "outputs": [
    {
     "name": "stdout",
     "output_type": "stream",
     "text": [
      "amay is great. He lives in india. He saw 4 dogs. \n"
     ]
    }
   ],
   "source": [
    "name = 'amay'\n",
    "place = 'india'\n",
    "dogs = 4 \n",
    "\n",
    "print('{} is great. He lives in {}. He saw {} dogs. ' .format(name, place, dogs))"
   ]
  },
  {
   "cell_type": "code",
   "execution_count": null,
   "id": "7a3c115d-7fbb-4d05-8522-a438553aa836",
   "metadata": {},
   "outputs": [],
   "source": []
  }
 ],
 "metadata": {
  "kernelspec": {
   "display_name": "Python 3 (ipykernel)",
   "language": "python",
   "name": "python3"
  },
  "language_info": {
   "codemirror_mode": {
    "name": "ipython",
    "version": 3
   },
   "file_extension": ".py",
   "mimetype": "text/x-python",
   "name": "python",
   "nbconvert_exporter": "python",
   "pygments_lexer": "ipython3",
   "version": "3.8.17"
  }
 },
 "nbformat": 4,
 "nbformat_minor": 5
}
